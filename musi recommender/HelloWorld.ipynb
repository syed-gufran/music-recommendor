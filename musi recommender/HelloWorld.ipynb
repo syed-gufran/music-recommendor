{
 "cells": [
  {
   "cell_type": "code",
   "execution_count": 45,
   "id": "bfe43dad-a834-40a6-aa75-40772bf1d83b",
   "metadata": {},
   "outputs": [],
   "source": [
    "import pandas as pd\n",
    "from sklearn.tree import DecisionTreeClassifier\n",
    "from sklearn import tree\n",
    "\n",
    "# Load data\n",
    "music_data = pd.read_csv(\"music.csv\")\n",
    "X = music_data.drop(columns=[\"genre\"])\n",
    "Y = music_data[\"genre\"]\n",
    "\n",
    "# Train the model\n",
    "model = DecisionTreeClassifier()\n",
    "model.fit(X, Y)\n",
    "\n",
    "# Export the decision tree to a .dot file\n",
    "tree.export_graphviz(\n",
    "    model, \n",
    "    out_file=\"music_recommender.dot\", \n",
    "    feature_names=X.columns.tolist(),  # Corrected parameter name\n",
    "    class_names=sorted(Y.unique()),   # Sorted unique values of the target (genre)\n",
    "    label='all', \n",
    "    rounded=True, \n",
    "    filled=True\n",
    ")\n"
   ]
  },
  {
   "cell_type": "code",
   "execution_count": null,
   "id": "a7526de7-a03a-43b6-9f06-4868a2cdf48c",
   "metadata": {},
   "outputs": [],
   "source": []
  }
 ],
 "metadata": {
  "kernelspec": {
   "display_name": "Python [conda env:base] *",
   "language": "python",
   "name": "conda-base-py"
  },
  "language_info": {
   "codemirror_mode": {
    "name": "ipython",
    "version": 3
   },
   "file_extension": ".py",
   "mimetype": "text/x-python",
   "name": "python",
   "nbconvert_exporter": "python",
   "pygments_lexer": "ipython3",
   "version": "3.12.7"
  }
 },
 "nbformat": 4,
 "nbformat_minor": 5
}
